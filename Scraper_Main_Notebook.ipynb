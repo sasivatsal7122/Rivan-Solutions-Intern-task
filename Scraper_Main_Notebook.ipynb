{
 "cells": [
  {
   "cell_type": "code",
   "execution_count": 10,
   "id": "ff921c51",
   "metadata": {},
   "outputs": [],
   "source": [
    "import requests\n",
    "import urllib\n",
    "from bs4 import BeautifulSoup as soup\n",
    "from urllib.request import Request, urlopen\n",
    "from pprint import pprint\n",
    "import random \n",
    "from selenium.webdriver.common.keys import Keys\n",
    "from selenium import webdriver\n",
    "import time\n",
    "import pickle\n",
    "import pandas as pd\n"
   ]
  },
  {
   "cell_type": "code",
   "execution_count": 11,
   "id": "bf38c9b4",
   "metadata": {},
   "outputs": [],
   "source": [
    "url = \"httpss://www.stfrancismedicalcenter.com/find-a-provider/\""
   ]
  },
  {
   "cell_type": "code",
   "execution_count": 51,
   "id": "a96b1a0c",
   "metadata": {},
   "outputs": [],
   "source": [
    "full_name_ls = []\n",
    "speciality_ls = []\n",
    "added_speciality_ls = []\n",
    "full_address_ls = []\n",
    "practice_ls = []\n",
    "address_ls = []\n",
    "state_ls = []\n",
    "zip_ls = []\n",
    "phone_ls = []\n",
    "error_ls = []"
   ]
  },
  {
   "cell_type": "code",
   "execution_count": 53,
   "id": "3ee43a96",
   "metadata": {
    "scrolled": true
   },
   "outputs": [],
   "source": [
    "def scrape(doc_soup):\n",
    "    flag=True\n",
    "    soup_main = doc_soup.find_all('div',{\"class\":\"LocationEHP__Wrapper-sc-1y4lei3-0 kPUlFg\"})\n",
    "    doctor_name = doc_soup.find('h3')\n",
    "    doctor_speciality_ls = doc_soup.find_all('div',{\"class\":\"ProviderMainCard__Tag-lt2r6j-1 dmNAGQ speciality-tag\"})\n",
    "    doctor_speciality = doctor_speciality_ls[0]\n",
    "    doctor_speciality = doctor_speciality.text\n",
    "    full_name_ls.append(doctor_name.text)\n",
    "    try:\n",
    "        a,b = doctor_speciality.split(\",\")\n",
    "        speciality_ls.append(a)\n",
    "        added_speciality_ls.append(b)\n",
    "    except:\n",
    "        speciality_ls.append(doctor_speciality)\n",
    "        added_speciality_ls.append(\"--\")\n",
    "        \n",
    "    for i in soup_main:\n",
    "        a = i.find_all('div',{\"class\":\"BasicInfo__Wrapper-gas5ca-0 hMRnVk education-title basicInfoWrapper\"})\n",
    "        b = i.find_all('div',{\"class\":\"BasicInfo__Wrapper-gas5ca-0 hMRnVk basicInfoWrapper\"})\n",
    "        try:\n",
    "            practice = a[0].text\n",
    "            address_main = b[0].text\n",
    "            phone_main = b[2].text\n",
    "        except:\n",
    "            flag=False\n",
    "            practice_ls.append(\"--\")\n",
    "            full_address_ls.append(\"--\")\n",
    "            address_ls.append(\"--\")\n",
    "            phone_ls.append(\"--\")\n",
    "            state_ls.append(\"--\")\n",
    "            zip_ls.append(\"--\")\n",
    "    if flag:\n",
    "        practice_ls.append(practice)\n",
    "        full_address_ls.append(practice+\" ; \"+address_main)\n",
    "        address_ls.append(address_main)\n",
    "        phone_ls.append(phone_main)\n",
    "        state_ls.append(address_main[-8:-6])\n",
    "        zip_ls.append(address_main[-5:-1])"
   ]
  },
  {
   "cell_type": "code",
   "execution_count": 54,
   "id": "0949e013",
   "metadata": {
    "scrolled": true
   },
   "outputs": [
    {
     "name": "stderr",
     "output_type": "stream",
     "text": [
      "C:\\Users\\sasiv\\AppData\\Local\\Temp\\ipykernel_18220\\3195032805.py:3: DeprecationWarning: executable_path has been deprecated, please pass in a Service object\n",
      "  driver = webdriver.Chrome(executable_path='./chromedriver/chromedriver.exe')\n",
      "Loading...:   5%|███▍                                                               | 33/650 [06:29<2:32:07, 14.79s/it]"
     ]
    },
    {
     "name": "stdout",
     "output_type": "stream",
     "text": [
      "Error Occured At Div 34\n"
     ]
    },
    {
     "name": "stderr",
     "output_type": "stream",
     "text": [
      "Loading...:   6%|███▊                                                               | 37/650 [07:28<2:32:37, 14.94s/it]"
     ]
    },
    {
     "name": "stdout",
     "output_type": "stream",
     "text": [
      "Error Occured At Div 38\n"
     ]
    },
    {
     "name": "stderr",
     "output_type": "stream",
     "text": [
      "Loading...:   7%|████▊                                                              | 47/650 [10:17<2:54:22, 17.35s/it]"
     ]
    },
    {
     "name": "stdout",
     "output_type": "stream",
     "text": [
      "Error Occured At Div 48\n"
     ]
    },
    {
     "name": "stderr",
     "output_type": "stream",
     "text": [
      "Loading...:   8%|█████▏                                                             | 50/650 [11:13<3:03:15, 18.33s/it]"
     ]
    },
    {
     "name": "stdout",
     "output_type": "stream",
     "text": [
      "Error Occured At Div 51\n"
     ]
    },
    {
     "name": "stderr",
     "output_type": "stream",
     "text": [
      "\r\n",
      "Loading...:   8%|█████▎                                                             | 51/650 [11:30<2:58:35, 17.89s/it]"
     ]
    },
    {
     "name": "stdout",
     "output_type": "stream",
     "text": [
      "Error Occured At Div 52\n"
     ]
    },
    {
     "name": "stderr",
     "output_type": "stream",
     "text": [
      "Loading...:   9%|██████▎                                                            | 61/650 [14:47<3:20:34, 20.43s/it]"
     ]
    },
    {
     "name": "stdout",
     "output_type": "stream",
     "text": [
      "Error Occured At Div 62\n"
     ]
    },
    {
     "name": "stderr",
     "output_type": "stream",
     "text": [
      "\r\n",
      "Loading...:  10%|██████▍                                                            | 62/650 [15:05<3:15:35, 19.96s/it]"
     ]
    },
    {
     "name": "stdout",
     "output_type": "stream",
     "text": [
      "Error Occured At Div 63\n"
     ]
    },
    {
     "name": "stderr",
     "output_type": "stream",
     "text": [
      "Loading...:  10%|██████▌                                                            | 64/650 [15:51<3:26:55, 21.19s/it]"
     ]
    },
    {
     "name": "stdout",
     "output_type": "stream",
     "text": [
      "Error Occured At Div 65\n"
     ]
    },
    {
     "name": "stderr",
     "output_type": "stream",
     "text": [
      "Loading...:  10%|██████▊                                                            | 66/650 [16:32<3:23:37, 20.92s/it]"
     ]
    },
    {
     "name": "stdout",
     "output_type": "stream",
     "text": [
      "Error Occured At Div 67\n"
     ]
    },
    {
     "name": "stderr",
     "output_type": "stream",
     "text": [
      "Loading...:  12%|███████▉                                                           | 77/650 [20:42<3:42:50, 23.33s/it]"
     ]
    },
    {
     "name": "stdout",
     "output_type": "stream",
     "text": [
      "Error Occured At Div 78\n"
     ]
    },
    {
     "name": "stderr",
     "output_type": "stream",
     "text": [
      "\r\n",
      "Loading...:  12%|████████                                                           | 78/650 [21:03<3:35:21, 22.59s/it]"
     ]
    },
    {
     "name": "stdout",
     "output_type": "stream",
     "text": [
      "Error Occured At Div 79\n"
     ]
    },
    {
     "name": "stderr",
     "output_type": "stream",
     "text": [
      "Loading...:  13%|████████▊                                                          | 85/650 [23:57<3:56:42, 25.14s/it]"
     ]
    },
    {
     "name": "stdout",
     "output_type": "stream",
     "text": [
      "Error Occured At Div 86\n"
     ]
    },
    {
     "name": "stderr",
     "output_type": "stream",
     "text": [
      "\r\n",
      "Loading...:  13%|████████▊                                                          | 86/650 [24:20<3:50:43, 24.55s/it]"
     ]
    },
    {
     "name": "stdout",
     "output_type": "stream",
     "text": [
      "Error Occured At Div 87\n"
     ]
    },
    {
     "name": "stderr",
     "output_type": "stream",
     "text": [
      "Loading...:  14%|█████████▏                                                         | 89/650 [25:35<3:51:55, 24.80s/it]"
     ]
    },
    {
     "name": "stdout",
     "output_type": "stream",
     "text": [
      "Error Occured At Div 90\n"
     ]
    },
    {
     "name": "stderr",
     "output_type": "stream",
     "text": [
      "\r\n",
      "Loading...:  14%|█████████▎                                                         | 90/650 [25:59<3:51:46, 24.83s/it]"
     ]
    },
    {
     "name": "stdout",
     "output_type": "stream",
     "text": [
      "Error Occured At Div 91\n"
     ]
    },
    {
     "name": "stderr",
     "output_type": "stream",
     "text": [
      "Loading...:  14%|█████████▍                                                         | 92/650 [26:52<3:59:43, 25.78s/it]"
     ]
    },
    {
     "name": "stdout",
     "output_type": "stream",
     "text": [
      "Error Occured At Div 93\n"
     ]
    },
    {
     "name": "stderr",
     "output_type": "stream",
     "text": [
      "Loading...:  14%|█████████▋                                                         | 94/650 [27:45<4:02:55, 26.21s/it]"
     ]
    },
    {
     "name": "stdout",
     "output_type": "stream",
     "text": [
      "Error Occured At Div 95\n"
     ]
    },
    {
     "name": "stderr",
     "output_type": "stream",
     "text": [
      "Loading...:  15%|██████████▏                                                       | 100/650 [30:30<4:15:28, 27.87s/it]"
     ]
    },
    {
     "name": "stdout",
     "output_type": "stream",
     "text": [
      "Error Occured At Div 101\n"
     ]
    },
    {
     "name": "stderr",
     "output_type": "stream",
     "text": [
      "Loading...:  16%|██████████▍                                                       | 103/650 [31:57<4:21:39, 28.70s/it]"
     ]
    },
    {
     "name": "stdout",
     "output_type": "stream",
     "text": [
      "Error Occured At Div 104\n"
     ]
    },
    {
     "name": "stderr",
     "output_type": "stream",
     "text": [
      "Loading...:  16%|██████████▊                                                       | 106/650 [33:23<4:21:39, 28.86s/it]"
     ]
    },
    {
     "name": "stdout",
     "output_type": "stream",
     "text": [
      "Error Occured At Div 107\n"
     ]
    },
    {
     "name": "stderr",
     "output_type": "stream",
     "text": [
      "\r\n",
      "Loading...:  16%|██████████▊                                                       | 107/650 [33:50<4:17:48, 28.49s/it]"
     ]
    },
    {
     "name": "stdout",
     "output_type": "stream",
     "text": [
      "Error Occured At Div 108\n"
     ]
    },
    {
     "name": "stderr",
     "output_type": "stream",
     "text": [
      "\r\n",
      "Loading...:  17%|██████████▉                                                       | 108/650 [34:27<4:40:37, 31.06s/it]"
     ]
    },
    {
     "name": "stdout",
     "output_type": "stream",
     "text": [
      "Error Occured At Div 109\n"
     ]
    },
    {
     "name": "stderr",
     "output_type": "stream",
     "text": [
      "\r\n",
      "Loading...:  17%|███████████                                                       | 109/650 [34:58<4:38:32, 30.89s/it]"
     ]
    },
    {
     "name": "stdout",
     "output_type": "stream",
     "text": [
      "Error Occured At Div 110\n"
     ]
    },
    {
     "name": "stderr",
     "output_type": "stream",
     "text": [
      "\r\n",
      "Loading...:  17%|███████████▏                                                      | 110/650 [35:33<4:49:13, 32.14s/it]"
     ]
    },
    {
     "name": "stdout",
     "output_type": "stream",
     "text": [
      "Error Occured At Div 111\n"
     ]
    },
    {
     "name": "stderr",
     "output_type": "stream",
     "text": [
      "\r\n",
      "Loading...:  17%|███████████▎                                                      | 111/650 [36:04<4:45:24, 31.77s/it]"
     ]
    },
    {
     "name": "stdout",
     "output_type": "stream",
     "text": [
      "Error Occured At Div 112\n"
     ]
    },
    {
     "name": "stderr",
     "output_type": "stream",
     "text": [
      "\r\n",
      "Loading...:  17%|███████████▎                                                      | 112/650 [38:31<9:55:14, 66.38s/it]"
     ]
    },
    {
     "name": "stdout",
     "output_type": "stream",
     "text": [
      "Error Occured At Div 113\n"
     ]
    },
    {
     "name": "stderr",
     "output_type": "stream",
     "text": [
      "\r\n",
      "Loading...:  17%|███████████▍                                                      | 113/650 [39:00<8:13:44, 55.17s/it]"
     ]
    },
    {
     "name": "stdout",
     "output_type": "stream",
     "text": [
      "Error Occured At Div 114\n"
     ]
    },
    {
     "name": "stderr",
     "output_type": "stream",
     "text": [
      "\r\n",
      "Loading...:  18%|███████████▌                                                      | 114/650 [39:29<7:02:56, 47.34s/it]"
     ]
    },
    {
     "name": "stdout",
     "output_type": "stream",
     "text": [
      "Error Occured At Div 115\n"
     ]
    },
    {
     "name": "stderr",
     "output_type": "stream",
     "text": [
      "Loading...:  19%|████████████▎                                                     | 121/650 [43:11<4:57:21, 33.73s/it]"
     ]
    },
    {
     "name": "stdout",
     "output_type": "stream",
     "text": [
      "Error Occured At Div 122\n"
     ]
    },
    {
     "name": "stderr",
     "output_type": "stream",
     "text": [
      "Loading...:  19%|████████████▋                                                     | 125/650 [45:23<4:52:46, 33.46s/it]"
     ]
    },
    {
     "name": "stdout",
     "output_type": "stream",
     "text": [
      "Error Occured At Div 126\n"
     ]
    },
    {
     "name": "stderr",
     "output_type": "stream",
     "text": [
      "Loading...:  20%|████████████▉                                                     | 128/650 [47:02<4:48:39, 33.18s/it]"
     ]
    },
    {
     "name": "stdout",
     "output_type": "stream",
     "text": [
      "Error Occured At Div 129\n"
     ]
    },
    {
     "name": "stderr",
     "output_type": "stream",
     "text": [
      "Loading...:  21%|█████████████▊                                                    | 136/650 [51:41<5:02:50, 35.35s/it]"
     ]
    },
    {
     "name": "stdout",
     "output_type": "stream",
     "text": [
      "Error Occured At Div 137\n"
     ]
    },
    {
     "name": "stderr",
     "output_type": "stream",
     "text": [
      "\r\n",
      "Loading...:  21%|█████████████▉                                                    | 137/650 [52:14<4:56:15, 34.65s/it]"
     ]
    },
    {
     "name": "stdout",
     "output_type": "stream",
     "text": [
      "Error Occured At Div 138\n"
     ]
    },
    {
     "name": "stderr",
     "output_type": "stream",
     "text": [
      "Loading...:  22%|██████████████▎                                                   | 141/650 [54:39<5:06:40, 36.15s/it]"
     ]
    },
    {
     "name": "stdout",
     "output_type": "stream",
     "text": [
      "Error Occured At Div 142\n"
     ]
    },
    {
     "name": "stderr",
     "output_type": "stream",
     "text": [
      "Loading...:  22%|██████████████▌                                                   | 144/650 [56:29<5:09:40, 36.72s/it]"
     ]
    },
    {
     "name": "stdout",
     "output_type": "stream",
     "text": [
      "Error Occured At Div 145\n"
     ]
    },
    {
     "name": "stderr",
     "output_type": "stream",
     "text": [
      "Loading...:  22%|██████████████▊                                                   | 146/650 [57:42<5:07:52, 36.65s/it]"
     ]
    },
    {
     "name": "stdout",
     "output_type": "stream",
     "text": [
      "Error Occured At Div 147\n"
     ]
    },
    {
     "name": "stderr",
     "output_type": "stream",
     "text": [
      "Loading...:  23%|██████████████▉                                                 | 152/650 [1:01:31<5:20:45, 38.65s/it]"
     ]
    },
    {
     "name": "stdout",
     "output_type": "stream",
     "text": [
      "Error Occured At Div 153\n"
     ]
    },
    {
     "name": "stderr",
     "output_type": "stream",
     "text": [
      "Loading...:  25%|███████████████▊                                                | 161/650 [1:07:31<5:30:34, 40.56s/it]"
     ]
    },
    {
     "name": "stdout",
     "output_type": "stream",
     "text": [
      "Error Occured At Div 162\n"
     ]
    },
    {
     "name": "stderr",
     "output_type": "stream",
     "text": [
      "Loading...:  27%|█████████████████▏                                              | 174/650 [1:16:40<5:43:40, 43.32s/it]"
     ]
    },
    {
     "name": "stdout",
     "output_type": "stream",
     "text": [
      "Error Occured At Div 175\n"
     ]
    },
    {
     "name": "stderr",
     "output_type": "stream",
     "text": [
      "Loading...:  28%|█████████████████▊                                              | 181/650 [1:21:47<5:48:38, 44.60s/it]"
     ]
    },
    {
     "name": "stdout",
     "output_type": "stream",
     "text": [
      "Error Occured At Div 182\n"
     ]
    },
    {
     "name": "stderr",
     "output_type": "stream",
     "text": [
      "Loading...:  28%|██████████████████                                              | 183/650 [1:23:15<5:47:25, 44.64s/it]"
     ]
    },
    {
     "name": "stdout",
     "output_type": "stream",
     "text": [
      "Error Occured At Div 184\n"
     ]
    },
    {
     "name": "stderr",
     "output_type": "stream",
     "text": [
      "Loading...:  28%|██████████████████▏                                             | 185/650 [1:24:44<5:46:05, 44.66s/it]"
     ]
    },
    {
     "name": "stdout",
     "output_type": "stream",
     "text": [
      "Error Occured At Div 186\n"
     ]
    },
    {
     "name": "stderr",
     "output_type": "stream",
     "text": [
      "Loading...:  29%|██████████████████▊                                             | 191/650 [1:29:20<5:55:30, 46.47s/it]"
     ]
    },
    {
     "name": "stdout",
     "output_type": "stream",
     "text": [
      "Error Occured At Div 192\n"
     ]
    },
    {
     "name": "stderr",
     "output_type": "stream",
     "text": [
      "Loading...:  30%|███████████████████                                             | 193/650 [1:30:53<5:54:22, 46.53s/it]"
     ]
    },
    {
     "name": "stdout",
     "output_type": "stream",
     "text": [
      "Error Occured At Div 194\n"
     ]
    },
    {
     "name": "stderr",
     "output_type": "stream",
     "text": [
      "Loading...:  30%|███████████████████▍                                            | 198/650 [1:34:49<5:57:19, 47.43s/it]"
     ]
    },
    {
     "name": "stdout",
     "output_type": "stream",
     "text": [
      "Error Occured At Div 199\n"
     ]
    },
    {
     "name": "stderr",
     "output_type": "stream",
     "text": [
      "Loading...:  31%|███████████████████▋                                            | 200/650 [1:36:24<5:57:23, 47.65s/it]"
     ]
    },
    {
     "name": "stdout",
     "output_type": "stream",
     "text": [
      "Error Occured At Div 201\n"
     ]
    },
    {
     "name": "stderr",
     "output_type": "stream",
     "text": [
      "Loading...:  32%|████████████████████▏                                           | 205/650 [1:40:30<6:05:16, 49.25s/it]"
     ]
    },
    {
     "name": "stdout",
     "output_type": "stream",
     "text": [
      "Error Occured At Div 206\n"
     ]
    },
    {
     "name": "stderr",
     "output_type": "stream",
     "text": [
      "Loading...:  33%|████████████████████▊                                           | 212/650 [1:46:40<6:18:29, 51.85s/it]"
     ]
    },
    {
     "name": "stdout",
     "output_type": "stream",
     "text": [
      "Error Occured At Div 213\n"
     ]
    },
    {
     "name": "stderr",
     "output_type": "stream",
     "text": [
      "\r\n",
      "Loading...:  33%|████████████████████▉                                           | 213/650 [1:47:30<6:11:55, 51.07s/it]"
     ]
    },
    {
     "name": "stdout",
     "output_type": "stream",
     "text": [
      "Error Occured At Div 214\n"
     ]
    },
    {
     "name": "stderr",
     "output_type": "stream",
     "text": [
      "Loading...:  33%|█████████████████████▎                                          | 216/650 [1:50:02<6:09:29, 51.08s/it]"
     ]
    },
    {
     "name": "stdout",
     "output_type": "stream",
     "text": [
      "Error Occured At Div 217\n"
     ]
    },
    {
     "name": "stderr",
     "output_type": "stream",
     "text": [
      "Loading...:  34%|█████████████████████▍                                          | 218/650 [1:51:43<6:06:08, 50.85s/it]"
     ]
    },
    {
     "name": "stdout",
     "output_type": "stream",
     "text": [
      "Error Occured At Div 219\n"
     ]
    },
    {
     "name": "stderr",
     "output_type": "stream",
     "text": [
      "Loading...:  34%|█████████████████████▋                                          | 220/650 [1:53:26<6:09:33, 51.57s/it]"
     ]
    },
    {
     "name": "stdout",
     "output_type": "stream",
     "text": [
      "Error Occured At Div 221\n"
     ]
    },
    {
     "name": "stderr",
     "output_type": "stream",
     "text": [
      "Loading...:  34%|█████████████████████▉                                          | 223/650 [1:56:06<6:15:31, 52.77s/it]"
     ]
    },
    {
     "name": "stdout",
     "output_type": "stream",
     "text": [
      "Error Occured At Div 224\n"
     ]
    },
    {
     "name": "stderr",
     "output_type": "stream",
     "text": [
      "Loading...:  35%|██████████████████████▋                                         | 230/650 [2:02:22<6:20:01, 54.29s/it]"
     ]
    },
    {
     "name": "stdout",
     "output_type": "stream",
     "text": [
      "Error Occured At Div 231\n"
     ]
    },
    {
     "name": "stderr",
     "output_type": "stream",
     "text": [
      "\r\n",
      "Loading...:  36%|██████████████████████▋                                         | 231/650 [2:03:15<6:16:39, 53.94s/it]"
     ]
    },
    {
     "name": "stdout",
     "output_type": "stream",
     "text": [
      "Error Occured At Div 232\n"
     ]
    },
    {
     "name": "stderr",
     "output_type": "stream",
     "text": [
      "Loading...:  36%|███████████████████████                                         | 234/650 [2:06:01<6:20:58, 54.95s/it]"
     ]
    },
    {
     "name": "stdout",
     "output_type": "stream",
     "text": [
      "Error Occured At Div 235\n"
     ]
    },
    {
     "name": "stderr",
     "output_type": "stream",
     "text": [
      "\r\n",
      "Loading...:  36%|███████████████████████▏                                        | 235/650 [2:06:54<6:16:48, 54.48s/it]"
     ]
    },
    {
     "name": "stdout",
     "output_type": "stream",
     "text": [
      "Error Occured At Div 236\n"
     ]
    },
    {
     "name": "stderr",
     "output_type": "stream",
     "text": [
      "Loading...:  36%|███████████████████████▎                                        | 237/650 [2:08:43<6:16:45, 54.74s/it]"
     ]
    },
    {
     "name": "stdout",
     "output_type": "stream",
     "text": [
      "Error Occured At Div 238\n"
     ]
    },
    {
     "name": "stderr",
     "output_type": "stream",
     "text": [
      "Loading...:  37%|███████████████████████▌                                        | 239/650 [2:10:32<6:15:04, 54.75s/it]"
     ]
    },
    {
     "name": "stdout",
     "output_type": "stream",
     "text": [
      "Error Occured At Div 240\n"
     ]
    },
    {
     "name": "stderr",
     "output_type": "stream",
     "text": [
      "Loading...:  37%|███████████████████████▋                                        | 241/650 [2:12:26<6:21:05, 55.91s/it]"
     ]
    },
    {
     "name": "stdout",
     "output_type": "stream",
     "text": [
      "Error Occured At Div 242\n"
     ]
    },
    {
     "name": "stderr",
     "output_type": "stream",
     "text": [
      "Loading...:  37%|███████████████████████▉                                        | 243/650 [2:14:20<6:23:51, 56.59s/it]"
     ]
    },
    {
     "name": "stdout",
     "output_type": "stream",
     "text": [
      "Error Occured At Div 244\n"
     ]
    },
    {
     "name": "stderr",
     "output_type": "stream",
     "text": [
      "Loading...:  38%|████████████████████████▏                                       | 246/650 [2:17:11<6:23:59, 57.03s/it]"
     ]
    },
    {
     "name": "stdout",
     "output_type": "stream",
     "text": [
      "Error Occured At Div 247\n"
     ]
    },
    {
     "name": "stderr",
     "output_type": "stream",
     "text": [
      "Loading...:  39%|████████████████████████▊                                       | 252/650 [2:23:01<6:30:59, 58.94s/it]"
     ]
    },
    {
     "name": "stdout",
     "output_type": "stream",
     "text": [
      "Error Occured At Div 253\n"
     ]
    },
    {
     "name": "stderr",
     "output_type": "stream",
     "text": [
      "\r\n",
      "Loading...:  39%|████████████████████████▉                                       | 253/650 [2:23:59<6:26:39, 58.44s/it]"
     ]
    },
    {
     "name": "stdout",
     "output_type": "stream",
     "text": [
      "Error Occured At Div 254\n"
     ]
    },
    {
     "name": "stderr",
     "output_type": "stream",
     "text": [
      "Loading...:  39%|█████████████████████████                                       | 255/650 [2:25:56<6:25:48, 58.60s/it]"
     ]
    },
    {
     "name": "stdout",
     "output_type": "stream",
     "text": [
      "Error Occured At Div 256\n"
     ]
    },
    {
     "name": "stderr",
     "output_type": "stream",
     "text": [
      "Loading...:  40%|█████████████████████████▎                                      | 257/650 [2:27:53<6:24:27, 58.70s/it]"
     ]
    },
    {
     "name": "stdout",
     "output_type": "stream",
     "text": [
      "Error Occured At Div 258\n"
     ]
    },
    {
     "name": "stderr",
     "output_type": "stream",
     "text": [
      "\r\n",
      "Loading...:  40%|█████████████████████████▍                                      | 258/650 [2:28:50<6:21:08, 58.34s/it]"
     ]
    },
    {
     "name": "stdout",
     "output_type": "stream",
     "text": [
      "Error Occured At Div 259\n"
     ]
    },
    {
     "name": "stderr",
     "output_type": "stream",
     "text": [
      "Loading...:  40%|█████████████████████████▋                                      | 261/650 [2:31:51<6:28:57, 59.99s/it]"
     ]
    },
    {
     "name": "stdout",
     "output_type": "stream",
     "text": [
      "Error Occured At Div 262\n"
     ]
    },
    {
     "name": "stderr",
     "output_type": "stream",
     "text": [
      "Loading...:  40%|█████████████████████████▉                                      | 263/650 [2:33:52<6:28:59, 60.31s/it]"
     ]
    },
    {
     "name": "stdout",
     "output_type": "stream",
     "text": [
      "Error Occured At Div 264\n"
     ]
    },
    {
     "name": "stderr",
     "output_type": "stream",
     "text": [
      "\r\n",
      "Loading...:  41%|█████████████████████████▉                                      | 264/650 [2:34:51<6:25:34, 59.93s/it]"
     ]
    },
    {
     "name": "stdout",
     "output_type": "stream",
     "text": [
      "Error Occured At Div 265\n"
     ]
    },
    {
     "name": "stderr",
     "output_type": "stream",
     "text": [
      "Loading...:  41%|██████████████████████████▏                                     | 266/650 [2:36:52<6:26:26, 60.38s/it]"
     ]
    },
    {
     "name": "stdout",
     "output_type": "stream",
     "text": [
      "Error Occured At Div 267\n"
     ]
    },
    {
     "name": "stderr",
     "output_type": "stream",
     "text": [
      "Loading...:  41%|██████████████████████████▍                                     | 268/650 [2:38:54<6:26:10, 60.66s/it]"
     ]
    },
    {
     "name": "stdout",
     "output_type": "stream",
     "text": [
      "Error Occured At Div 269\n"
     ]
    },
    {
     "name": "stderr",
     "output_type": "stream",
     "text": [
      "Loading...:  42%|██████████████████████████▌                                     | 270/650 [2:40:57<6:28:25, 61.33s/it]"
     ]
    },
    {
     "name": "stdout",
     "output_type": "stream",
     "text": [
      "Error Occured At Div 271\n"
     ]
    },
    {
     "name": "stderr",
     "output_type": "stream",
     "text": [
      "Loading...:  42%|██████████████████████████▉                                     | 273/650 [2:44:10<6:37:28, 63.26s/it]"
     ]
    },
    {
     "name": "stdout",
     "output_type": "stream",
     "text": [
      "Error Occured At Div 274\n"
     ]
    },
    {
     "name": "stderr",
     "output_type": "stream",
     "text": [
      "\r\n",
      "Loading...:  42%|██████████████████████████▉                                     | 274/650 [2:45:12<6:32:47, 62.68s/it]"
     ]
    },
    {
     "name": "stdout",
     "output_type": "stream",
     "text": [
      "Error Occured At Div 275\n"
     ]
    },
    {
     "name": "stderr",
     "output_type": "stream",
     "text": [
      "Loading...:  43%|███████████████████████████▎                                    | 278/650 [2:49:24<6:32:01, 63.23s/it]"
     ]
    },
    {
     "name": "stdout",
     "output_type": "stream",
     "text": [
      "Error Occured At Div 279\n"
     ]
    },
    {
     "name": "stderr",
     "output_type": "stream",
     "text": [
      "Loading...:  43%|███████████████████████████▋                                    | 281/650 [2:52:37<6:35:11, 64.26s/it]"
     ]
    },
    {
     "name": "stdout",
     "output_type": "stream",
     "text": [
      "Error Occured At Div 282\n"
     ]
    },
    {
     "name": "stderr",
     "output_type": "stream",
     "text": [
      "Loading...:  44%|███████████████████████████▉                                    | 284/650 [2:55:52<6:35:22, 64.82s/it]"
     ]
    },
    {
     "name": "stdout",
     "output_type": "stream",
     "text": [
      "Error Occured At Div 285\n"
     ]
    },
    {
     "name": "stderr",
     "output_type": "stream",
     "text": [
      "Loading...:  44%|████████████████████████████▎                                   | 287/650 [2:59:07<6:33:52, 65.10s/it]"
     ]
    },
    {
     "name": "stdout",
     "output_type": "stream",
     "text": [
      "Error Occured At Div 288\n"
     ]
    },
    {
     "name": "stderr",
     "output_type": "stream",
     "text": [
      "Loading...:  45%|████████████████████████████▊                                   | 292/650 [3:04:38<6:37:41, 66.65s/it]"
     ]
    },
    {
     "name": "stdout",
     "output_type": "stream",
     "text": [
      "Error Occured At Div 293\n"
     ]
    },
    {
     "name": "stderr",
     "output_type": "stream",
     "text": [
      "Loading...:  46%|█████████████████████████████▏                                  | 296/650 [3:09:07<6:37:20, 67.34s/it]"
     ]
    },
    {
     "name": "stdout",
     "output_type": "stream",
     "text": [
      "Error Occured At Div 297\n"
     ]
    },
    {
     "name": "stderr",
     "output_type": "stream",
     "text": [
      "Loading...:  47%|█████████████████████████████▉                                  | 304/650 [3:18:17<6:39:26, 69.27s/it]"
     ]
    },
    {
     "name": "stdout",
     "output_type": "stream",
     "text": [
      "Error Occured At Div 305\n"
     ]
    },
    {
     "name": "stderr",
     "output_type": "stream",
     "text": [
      "Loading...:  48%|██████████████████████████████▌                                 | 310/650 [3:25:15<6:38:09, 70.26s/it]"
     ]
    },
    {
     "name": "stdout",
     "output_type": "stream",
     "text": [
      "Error Occured At Div 311\n"
     ]
    },
    {
     "name": "stderr",
     "output_type": "stream",
     "text": [
      "Loading...:  50%|████████████████████████████████                                | 325/650 [3:43:22<6:38:23, 73.55s/it]"
     ]
    },
    {
     "name": "stdout",
     "output_type": "stream",
     "text": [
      "Error Occured At Div 326\n"
     ]
    },
    {
     "name": "stderr",
     "output_type": "stream",
     "text": [
      "Loading...:  51%|████████████████████████████████▍                               | 330/650 [3:49:31<6:36:32, 74.35s/it]"
     ]
    },
    {
     "name": "stdout",
     "output_type": "stream",
     "text": [
      "Error Occured At Div 331\n"
     ]
    },
    {
     "name": "stderr",
     "output_type": "stream",
     "text": [
      "Loading...:  51%|████████████████████████████████▋                               | 332/650 [3:52:01<6:36:02, 74.73s/it]"
     ]
    },
    {
     "name": "stdout",
     "output_type": "stream",
     "text": [
      "Error Occured At Div 333\n"
     ]
    },
    {
     "name": "stderr",
     "output_type": "stream",
     "text": [
      "Loading...:  51%|████████████████████████████████▉                               | 334/650 [3:54:32<6:37:02, 75.39s/it]"
     ]
    },
    {
     "name": "stdout",
     "output_type": "stream",
     "text": [
      "Error Occured At Div 335\n"
     ]
    },
    {
     "name": "stderr",
     "output_type": "stream",
     "text": [
      "\r\n",
      "Loading...:  52%|████████████████████████████████▉                               | 335/650 [3:55:46<6:33:08, 74.88s/it]"
     ]
    },
    {
     "name": "stdout",
     "output_type": "stream",
     "text": [
      "Error Occured At Div 336\n"
     ]
    },
    {
     "name": "stderr",
     "output_type": "stream",
     "text": [
      "Loading...:  52%|█████████████████████████████████▏                              | 337/650 [3:59:29<3:42:26, 42.64s/it]\n"
     ]
    },
    {
     "ename": "WebDriverException",
     "evalue": "Message: chrome not reachable\n  (Session info: chrome=105.0.5195.127)\nStacktrace:\nBacktrace:\n\tOrdinal0 [0x0090DF13+2219795]\n\tOrdinal0 [0x008A2841+1779777]\n\tOrdinal0 [0x007B4100+803072]\n\tOrdinal0 [0x007A9BF2+760818]\n\tOrdinal0 [0x0079CD35+707893]\n\tOrdinal0 [0x007A1122+725282]\n\tOrdinal0 [0x007A5699+743065]\n\tOrdinal0 [0x007B5610+808464]\n\tOrdinal0 [0x0080E93A+1173818]\n\tOrdinal0 [0x007FE616+1107478]\n\tOrdinal0 [0x007D7F89+950153]\n\tOrdinal0 [0x007D8F56+954198]\n\tGetHandleVerifier [0x00C02CB2+3040210]\n\tGetHandleVerifier [0x00BF2BB4+2974420]\n\tGetHandleVerifier [0x009A6A0A+565546]\n\tGetHandleVerifier [0x009A5680+560544]\n\tOrdinal0 [0x008A9A5C+1808988]\n\tOrdinal0 [0x008AE3A8+1827752]\n\tOrdinal0 [0x008AE495+1827989]\n\tOrdinal0 [0x008B80A4+1867940]\n\tBaseThreadInitThunk [0x762F6739+25]\n\tRtlGetFullPathName_UEx [0x770D8FD2+1218]\n\tRtlGetFullPathName_UEx [0x770D8F9D+1165]\n",
     "output_type": "error",
     "traceback": [
      "\u001b[1;31m---------------------------------------------------------------------------\u001b[0m",
      "\u001b[1;31mWebDriverException\u001b[0m                        Traceback (most recent call last)",
      "Input \u001b[1;32mIn [54]\u001b[0m, in \u001b[0;36m<cell line: 7>\u001b[1;34m()\u001b[0m\n\u001b[0;32m      9\u001b[0m     \u001b[38;5;28;01mfor\u001b[39;00m j \u001b[38;5;129;01min\u001b[39;00m \u001b[38;5;28mrange\u001b[39m(\u001b[38;5;28mint\u001b[39m(div_const\u001b[38;5;241m/\u001b[39m\u001b[38;5;241m10\u001b[39m)):\n\u001b[0;32m     10\u001b[0m         time\u001b[38;5;241m.\u001b[39msleep(\u001b[38;5;241m2\u001b[39m)\n\u001b[1;32m---> 11\u001b[0m         \u001b[43mdriver\u001b[49m\u001b[38;5;241;43m.\u001b[39;49m\u001b[43mexecute_script\u001b[49m\u001b[43m(\u001b[49m\u001b[38;5;124;43m\"\u001b[39;49m\u001b[38;5;124;43mwindow.scrollTo(0, document.body.scrollHeight);\u001b[39;49m\u001b[38;5;124;43m\"\u001b[39;49m\u001b[43m)\u001b[49m\n\u001b[0;32m     12\u001b[0m time\u001b[38;5;241m.\u001b[39msleep(\u001b[38;5;241m4\u001b[39m)\n\u001b[0;32m     13\u001b[0m \u001b[38;5;28;01mtry\u001b[39;00m:\n",
      "File \u001b[1;32m~\\anaconda3\\lib\\site-packages\\selenium\\webdriver\\remote\\webdriver.py:491\u001b[0m, in \u001b[0;36mWebDriver.execute_script\u001b[1;34m(self, script, *args)\u001b[0m\n\u001b[0;32m    488\u001b[0m converted_args \u001b[38;5;241m=\u001b[39m \u001b[38;5;28mlist\u001b[39m(args)\n\u001b[0;32m    489\u001b[0m command \u001b[38;5;241m=\u001b[39m Command\u001b[38;5;241m.\u001b[39mW3C_EXECUTE_SCRIPT\n\u001b[1;32m--> 491\u001b[0m \u001b[38;5;28;01mreturn\u001b[39;00m \u001b[38;5;28;43mself\u001b[39;49m\u001b[38;5;241;43m.\u001b[39;49m\u001b[43mexecute\u001b[49m\u001b[43m(\u001b[49m\u001b[43mcommand\u001b[49m\u001b[43m,\u001b[49m\u001b[43m \u001b[49m\u001b[43m{\u001b[49m\n\u001b[0;32m    492\u001b[0m \u001b[43m    \u001b[49m\u001b[38;5;124;43m'\u001b[39;49m\u001b[38;5;124;43mscript\u001b[39;49m\u001b[38;5;124;43m'\u001b[39;49m\u001b[43m:\u001b[49m\u001b[43m \u001b[49m\u001b[43mscript\u001b[49m\u001b[43m,\u001b[49m\n\u001b[0;32m    493\u001b[0m \u001b[43m    \u001b[49m\u001b[38;5;124;43m'\u001b[39;49m\u001b[38;5;124;43margs\u001b[39;49m\u001b[38;5;124;43m'\u001b[39;49m\u001b[43m:\u001b[49m\u001b[43m \u001b[49m\u001b[43mconverted_args\u001b[49m\u001b[43m}\u001b[49m\u001b[43m)\u001b[49m[\u001b[38;5;124m'\u001b[39m\u001b[38;5;124mvalue\u001b[39m\u001b[38;5;124m'\u001b[39m]\n",
      "File \u001b[1;32m~\\anaconda3\\lib\\site-packages\\selenium\\webdriver\\remote\\webdriver.py:428\u001b[0m, in \u001b[0;36mWebDriver.execute\u001b[1;34m(self, driver_command, params)\u001b[0m\n\u001b[0;32m    426\u001b[0m response \u001b[38;5;241m=\u001b[39m \u001b[38;5;28mself\u001b[39m\u001b[38;5;241m.\u001b[39mcommand_executor\u001b[38;5;241m.\u001b[39mexecute(driver_command, params)\n\u001b[0;32m    427\u001b[0m \u001b[38;5;28;01mif\u001b[39;00m response:\n\u001b[1;32m--> 428\u001b[0m     \u001b[38;5;28;43mself\u001b[39;49m\u001b[38;5;241;43m.\u001b[39;49m\u001b[43merror_handler\u001b[49m\u001b[38;5;241;43m.\u001b[39;49m\u001b[43mcheck_response\u001b[49m\u001b[43m(\u001b[49m\u001b[43mresponse\u001b[49m\u001b[43m)\u001b[49m\n\u001b[0;32m    429\u001b[0m     response[\u001b[38;5;124m'\u001b[39m\u001b[38;5;124mvalue\u001b[39m\u001b[38;5;124m'\u001b[39m] \u001b[38;5;241m=\u001b[39m \u001b[38;5;28mself\u001b[39m\u001b[38;5;241m.\u001b[39m_unwrap_value(\n\u001b[0;32m    430\u001b[0m         response\u001b[38;5;241m.\u001b[39mget(\u001b[38;5;124m'\u001b[39m\u001b[38;5;124mvalue\u001b[39m\u001b[38;5;124m'\u001b[39m, \u001b[38;5;28;01mNone\u001b[39;00m))\n\u001b[0;32m    431\u001b[0m     \u001b[38;5;28;01mreturn\u001b[39;00m response\n",
      "File \u001b[1;32m~\\anaconda3\\lib\\site-packages\\selenium\\webdriver\\remote\\errorhandler.py:243\u001b[0m, in \u001b[0;36mErrorHandler.check_response\u001b[1;34m(self, response)\u001b[0m\n\u001b[0;32m    241\u001b[0m         alert_text \u001b[38;5;241m=\u001b[39m value[\u001b[38;5;124m'\u001b[39m\u001b[38;5;124malert\u001b[39m\u001b[38;5;124m'\u001b[39m]\u001b[38;5;241m.\u001b[39mget(\u001b[38;5;124m'\u001b[39m\u001b[38;5;124mtext\u001b[39m\u001b[38;5;124m'\u001b[39m)\n\u001b[0;32m    242\u001b[0m     \u001b[38;5;28;01mraise\u001b[39;00m exception_class(message, screen, stacktrace, alert_text)  \u001b[38;5;66;03m# type: ignore[call-arg]  # mypy is not smart enough here\u001b[39;00m\n\u001b[1;32m--> 243\u001b[0m \u001b[38;5;28;01mraise\u001b[39;00m exception_class(message, screen, stacktrace)\n",
      "\u001b[1;31mWebDriverException\u001b[0m: Message: chrome not reachable\n  (Session info: chrome=105.0.5195.127)\nStacktrace:\nBacktrace:\n\tOrdinal0 [0x0090DF13+2219795]\n\tOrdinal0 [0x008A2841+1779777]\n\tOrdinal0 [0x007B4100+803072]\n\tOrdinal0 [0x007A9BF2+760818]\n\tOrdinal0 [0x0079CD35+707893]\n\tOrdinal0 [0x007A1122+725282]\n\tOrdinal0 [0x007A5699+743065]\n\tOrdinal0 [0x007B5610+808464]\n\tOrdinal0 [0x0080E93A+1173818]\n\tOrdinal0 [0x007FE616+1107478]\n\tOrdinal0 [0x007D7F89+950153]\n\tOrdinal0 [0x007D8F56+954198]\n\tGetHandleVerifier [0x00C02CB2+3040210]\n\tGetHandleVerifier [0x00BF2BB4+2974420]\n\tGetHandleVerifier [0x009A6A0A+565546]\n\tGetHandleVerifier [0x009A5680+560544]\n\tOrdinal0 [0x008A9A5C+1808988]\n\tOrdinal0 [0x008AE3A8+1827752]\n\tOrdinal0 [0x008AE495+1827989]\n\tOrdinal0 [0x008B80A4+1867940]\n\tBaseThreadInitThunk [0x762F6739+25]\n\tRtlGetFullPathName_UEx [0x770D8FD2+1218]\n\tRtlGetFullPathName_UEx [0x770D8F9D+1165]\n"
     ]
    }
   ],
   "source": [
    "from tqdm import tqdm\n",
    "\n",
    "driver = webdriver.Chrome(executable_path='./chromedriver/chromedriver.exe') \n",
    "driver.get(url) \n",
    "time.sleep(5) \n",
    "div_const = 1\n",
    "for i in tqdm (range(650), desc=\"Loading...\"):\n",
    "    if div_const>10:\n",
    "        for j in range(int(div_const/10)):\n",
    "            time.sleep(2)\n",
    "            driver.execute_script(\"window.scrollTo(0, document.body.scrollHeight);\")\n",
    "    time.sleep(4)\n",
    "    try:\n",
    "        driver.find_element(\"xpath\",f'(//button[@class=\"CustomButton-j1wfwm-0 bfxmwP outlined\"])[{div_const}]').click()\n",
    "        time.sleep(4)\n",
    "        html = driver.page_source\n",
    "        webpage_soup = soup(html,'html.parser')\n",
    "        scrape(webpage_soup)\n",
    "        driver.find_element(\"xpath\",\"(//*[name()='svg'])\").click()\n",
    "    except:\n",
    "        print(f\"Error Occured At Div {div_const}\")\n",
    "        error_ls.append(div_const)\n",
    "        time.sleep(2)\n",
    "        driver.get(url)\n",
    "    div_const+=1\n",
    "    \n",
    "    \n"
   ]
  },
  {
   "cell_type": "code",
   "execution_count": 55,
   "id": "37749c27",
   "metadata": {},
   "outputs": [
    {
     "data": {
      "text/html": [
       "<div>\n",
       "<style scoped>\n",
       "    .dataframe tbody tr th:only-of-type {\n",
       "        vertical-align: middle;\n",
       "    }\n",
       "\n",
       "    .dataframe tbody tr th {\n",
       "        vertical-align: top;\n",
       "    }\n",
       "\n",
       "    .dataframe thead th {\n",
       "        text-align: right;\n",
       "    }\n",
       "</style>\n",
       "<table border=\"1\" class=\"dataframe\">\n",
       "  <thead>\n",
       "    <tr style=\"text-align: right;\">\n",
       "      <th></th>\n",
       "      <th>Full Name</th>\n",
       "      <th>Specialty</th>\n",
       "      <th>Add Specialty</th>\n",
       "      <th>Full Address</th>\n",
       "      <th>Practice</th>\n",
       "      <th>Address</th>\n",
       "      <th>State</th>\n",
       "      <th>Zip</th>\n",
       "      <th>Phone</th>\n",
       "    </tr>\n",
       "  </thead>\n",
       "  <tbody>\n",
       "    <tr>\n",
       "      <th>0</th>\n",
       "      <td>Shahira Abdel-Malek, MD</td>\n",
       "      <td>Pediatrics</td>\n",
       "      <td>--</td>\n",
       "      <td>--</td>\n",
       "      <td>--</td>\n",
       "      <td>--</td>\n",
       "      <td>--</td>\n",
       "      <td>--</td>\n",
       "      <td>--</td>\n",
       "    </tr>\n",
       "    <tr>\n",
       "      <th>1</th>\n",
       "      <td>Angineh Abkarian, PsyD</td>\n",
       "      <td>Psychologist</td>\n",
       "      <td>Clinical</td>\n",
       "      <td>Oceanside Medical Group ; 701 Santa Monica Blv...</td>\n",
       "      <td>Oceanside Medical Group</td>\n",
       "      <td>701 Santa Monica Blvd., Ste #230 Santa Monica ...</td>\n",
       "      <td>CA</td>\n",
       "      <td>9040</td>\n",
       "      <td>(310) 801-4627</td>\n",
       "    </tr>\n",
       "    <tr>\n",
       "      <th>2</th>\n",
       "      <td>Adegbenga Adetola, MD</td>\n",
       "      <td>Nephrology</td>\n",
       "      <td>--</td>\n",
       "      <td>--</td>\n",
       "      <td>--</td>\n",
       "      <td>--</td>\n",
       "      <td>--</td>\n",
       "      <td>--</td>\n",
       "      <td>--</td>\n",
       "    </tr>\n",
       "    <tr>\n",
       "      <th>3</th>\n",
       "      <td>Iman Afrooz, MD</td>\n",
       "      <td>Internal Medicine</td>\n",
       "      <td>--</td>\n",
       "      <td>Epic Medical Group ; 4955 Van Nuys Blvd Sherma...</td>\n",
       "      <td>Epic Medical Group</td>\n",
       "      <td>4955 Van Nuys Blvd Sherman Oaks CA 91403</td>\n",
       "      <td>CA</td>\n",
       "      <td>9140</td>\n",
       "      <td>(213) 279-1220</td>\n",
       "    </tr>\n",
       "    <tr>\n",
       "      <th>4</th>\n",
       "      <td>Ernest Agatstein, MD</td>\n",
       "      <td>Urology</td>\n",
       "      <td>--</td>\n",
       "      <td>West Coast Urology Group ; 575 E. Hardy Street...</td>\n",
       "      <td>West Coast Urology Group</td>\n",
       "      <td>575 E. Hardy Street Inglewood CA 90301</td>\n",
       "      <td>CA</td>\n",
       "      <td>9030</td>\n",
       "      <td>(310) 673-3333</td>\n",
       "    </tr>\n",
       "    <tr>\n",
       "      <th>...</th>\n",
       "      <td>...</td>\n",
       "      <td>...</td>\n",
       "      <td>...</td>\n",
       "      <td>...</td>\n",
       "      <td>...</td>\n",
       "      <td>...</td>\n",
       "      <td>...</td>\n",
       "      <td>...</td>\n",
       "      <td>...</td>\n",
       "    </tr>\n",
       "    <tr>\n",
       "      <th>244</th>\n",
       "      <td>Tricia Manalastas, PA</td>\n",
       "      <td>Physician Assistant</td>\n",
       "      <td>--</td>\n",
       "      <td>Daniel M. Zinar, MD, Inc. ; 2865 Atlantic Ave....</td>\n",
       "      <td>Daniel M. Zinar, MD, Inc.</td>\n",
       "      <td>2865 Atlantic Ave. Long Beach CA 90806</td>\n",
       "      <td>CA</td>\n",
       "      <td>9080</td>\n",
       "      <td>(562) 912-7437</td>\n",
       "    </tr>\n",
       "    <tr>\n",
       "      <th>245</th>\n",
       "      <td>Concepcion Mangasep, MD</td>\n",
       "      <td>Psychiatry</td>\n",
       "      <td>--</td>\n",
       "      <td>College Mecical Center ; 2776 Pacific Avenue L...</td>\n",
       "      <td>College Mecical Center</td>\n",
       "      <td>2776 Pacific Avenue Long Beach CA 90806</td>\n",
       "      <td>CA</td>\n",
       "      <td>9080</td>\n",
       "      <td>(562) 997-2000</td>\n",
       "    </tr>\n",
       "    <tr>\n",
       "      <th>246</th>\n",
       "      <td>Christopher Marrocco, MD</td>\n",
       "      <td>Vascular Surgery</td>\n",
       "      <td>--</td>\n",
       "      <td>--</td>\n",
       "      <td>--</td>\n",
       "      <td>--</td>\n",
       "      <td>--</td>\n",
       "      <td>--</td>\n",
       "      <td>--</td>\n",
       "    </tr>\n",
       "    <tr>\n",
       "      <th>247</th>\n",
       "      <td>Claudia Martinez, MD</td>\n",
       "      <td>Emergency Medicine</td>\n",
       "      <td>--</td>\n",
       "      <td>Vituity ; 3630 E. Imperial Hwy. Lynwood CA 90262</td>\n",
       "      <td>Vituity</td>\n",
       "      <td>3630 E. Imperial Hwy. Lynwood CA 90262</td>\n",
       "      <td>CA</td>\n",
       "      <td>9026</td>\n",
       "      <td>(310) 900-4534</td>\n",
       "    </tr>\n",
       "    <tr>\n",
       "      <th>248</th>\n",
       "      <td>K.N. Mbagwu, MD</td>\n",
       "      <td>Obstetrics and Gynecology</td>\n",
       "      <td>--</td>\n",
       "      <td>--</td>\n",
       "      <td>--</td>\n",
       "      <td>--</td>\n",
       "      <td>--</td>\n",
       "      <td>--</td>\n",
       "      <td>--</td>\n",
       "    </tr>\n",
       "  </tbody>\n",
       "</table>\n",
       "<p>249 rows × 9 columns</p>\n",
       "</div>"
      ],
      "text/plain": [
       "                    Full Name                  Specialty Add Specialty  \\\n",
       "0     Shahira Abdel-Malek, MD                 Pediatrics            --   \n",
       "1      Angineh Abkarian, PsyD               Psychologist      Clinical   \n",
       "2       Adegbenga Adetola, MD                 Nephrology            --   \n",
       "3             Iman Afrooz, MD          Internal Medicine            --   \n",
       "4        Ernest Agatstein, MD                    Urology            --   \n",
       "..                        ...                        ...           ...   \n",
       "244     Tricia Manalastas, PA        Physician Assistant            --   \n",
       "245   Concepcion Mangasep, MD                 Psychiatry            --   \n",
       "246  Christopher Marrocco, MD           Vascular Surgery            --   \n",
       "247      Claudia Martinez, MD         Emergency Medicine            --   \n",
       "248           K.N. Mbagwu, MD  Obstetrics and Gynecology            --   \n",
       "\n",
       "                                          Full Address  \\\n",
       "0                                                   --   \n",
       "1    Oceanside Medical Group ; 701 Santa Monica Blv...   \n",
       "2                                                   --   \n",
       "3    Epic Medical Group ; 4955 Van Nuys Blvd Sherma...   \n",
       "4    West Coast Urology Group ; 575 E. Hardy Street...   \n",
       "..                                                 ...   \n",
       "244  Daniel M. Zinar, MD, Inc. ; 2865 Atlantic Ave....   \n",
       "245  College Mecical Center ; 2776 Pacific Avenue L...   \n",
       "246                                                 --   \n",
       "247   Vituity ; 3630 E. Imperial Hwy. Lynwood CA 90262   \n",
       "248                                                 --   \n",
       "\n",
       "                      Practice  \\\n",
       "0                           --   \n",
       "1      Oceanside Medical Group   \n",
       "2                           --   \n",
       "3           Epic Medical Group   \n",
       "4     West Coast Urology Group   \n",
       "..                         ...   \n",
       "244  Daniel M. Zinar, MD, Inc.   \n",
       "245     College Mecical Center   \n",
       "246                         --   \n",
       "247                    Vituity   \n",
       "248                         --   \n",
       "\n",
       "                                               Address State   Zip  \\\n",
       "0                                                   --    --    --   \n",
       "1    701 Santa Monica Blvd., Ste #230 Santa Monica ...    CA  9040   \n",
       "2                                                   --    --    --   \n",
       "3             4955 Van Nuys Blvd Sherman Oaks CA 91403    CA  9140   \n",
       "4               575 E. Hardy Street Inglewood CA 90301    CA  9030   \n",
       "..                                                 ...   ...   ...   \n",
       "244             2865 Atlantic Ave. Long Beach CA 90806    CA  9080   \n",
       "245            2776 Pacific Avenue Long Beach CA 90806    CA  9080   \n",
       "246                                                 --    --    --   \n",
       "247             3630 E. Imperial Hwy. Lynwood CA 90262    CA  9026   \n",
       "248                                                 --    --    --   \n",
       "\n",
       "              Phone  \n",
       "0                --  \n",
       "1    (310) 801-4627  \n",
       "2                --  \n",
       "3    (213) 279-1220  \n",
       "4    (310) 673-3333  \n",
       "..              ...  \n",
       "244  (562) 912-7437  \n",
       "245  (562) 997-2000  \n",
       "246              --  \n",
       "247  (310) 900-4534  \n",
       "248              --  \n",
       "\n",
       "[249 rows x 9 columns]"
      ]
     },
     "execution_count": 55,
     "metadata": {},
     "output_type": "execute_result"
    }
   ],
   "source": [
    "data = {'Full Name':full_name_ls,\n",
    "            'Specialty':speciality_ls,\n",
    "            'Add Specialty':added_speciality_ls,\n",
    "            'Full Address' : full_address_ls,\n",
    "            'Practice': practice_ls,\n",
    "            'Address':address_ls,\n",
    "            'State':state_ls,\n",
    "            'Zip' : zip_ls,\n",
    "            'Phone':phone_ls,\n",
    "    }\n",
    "df = pd.DataFrame(data)\n",
    "df.to_excel(\"assignment_output.xlsx\")\n",
    "df"
   ]
  },
  {
   "cell_type": "markdown",
   "id": "5fac3508",
   "metadata": {},
   "source": [
    "# Thank You"
   ]
  }
 ],
 "metadata": {
  "kernelspec": {
   "display_name": "Python 3 (ipykernel)",
   "language": "python",
   "name": "python3"
  },
  "language_info": {
   "codemirror_mode": {
    "name": "ipython",
    "version": 3
   },
   "file_extension": ".py",
   "mimetype": "text/x-python",
   "name": "python",
   "nbconvert_exporter": "python",
   "pygments_lexer": "ipython3",
   "version": "3.9.7"
  },
  "vscode": {
   "interpreter": {
    "hash": "3d059323522d192ff59a99a87f48cca3bf770b79770456f41d750a3c24a8370f"
   }
  }
 },
 "nbformat": 4,
 "nbformat_minor": 5
}
